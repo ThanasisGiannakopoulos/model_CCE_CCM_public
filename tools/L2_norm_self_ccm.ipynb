{
 "cells": [
  {
   "cell_type": "code",
   "execution_count": null,
   "metadata": {},
   "outputs": [],
   "source": [
    "using PyPlot\n",
    "using LaTeXStrings\n",
    "using DelimitedFiles\n",
    "pygui(true)"
   ]
  },
  {
   "cell_type": "code",
   "execution_count": 19,
   "metadata": {},
   "outputs": [
    {
     "data": {
      "text/plain": [
       "\"/home/thanasis/repos/model_CCE_CCM_public/examples/run_ccm/\""
      ]
     },
     "execution_count": 19,
     "metadata": {},
     "output_type": "execute_result"
    }
   ],
   "source": [
    "# give the directory where the data from all the runs are saved\n",
    "your_dir = \"/home/thanasis/repos/model_CCE_CCM_public/examples/run_ccm/\""
   ]
  },
  {
   "cell_type": "code",
   "execution_count": 25,
   "metadata": {},
   "outputs": [],
   "source": [
    "##LOAD SMOOTH DATA SH##\n",
    "\n",
    "# DATA DIR; change to the directory where you have the norms of the SH_smooth_B1.jl model\n",
    "smooth_data_dir_SH = your_dir*\"SYMH_B1_WH_B2_smooth_t20/norms_self\"\n",
    "\n",
    "#N=0 & N=1 & N=2\n",
    "L2_0_1_c0     = readdlm(smooth_data_dir_SH*\"/L2_0_1_c0.dat\", comments=true)[:,2]\n",
    "L2_1_2_c0     = readdlm(smooth_data_dir_SH*\"/L2_1_2_c0.dat\", comments=true)[:,2]\n",
    "smooth_p_L2_0_SH  = log2.(sqrt.(L2_0_1_c0)./sqrt.(L2_1_2_c0)) \n",
    "smooth_t_0_SH = readdlm(smooth_data_dir_SH*\"/L2_0_1_c0.dat\", comments=true)[:,1]\n",
    "\n",
    "#N=1 & N=2 & N=3\n",
    "L2_1_2_c1     = readdlm(smooth_data_dir_SH*\"/L2_1_2_c1.dat\", comments=true)[:,2]\n",
    "L2_2_3_c1     = readdlm(smooth_data_dir_SH*\"/L2_2_3_c1.dat\", comments=true)[:,2]\n",
    "smooth_p_L2_1_SH  = log2.(sqrt.(L2_1_2_c1)./sqrt.(L2_2_3_c1)) \n",
    "smooth_t_1_SH = readdlm(smooth_data_dir_SH*\"/L2_1_2_c1.dat\", comments=true)[:,1]\n",
    "\n",
    "#N=2 & N=3 & N=4\n",
    "L2_2_3_c2     = readdlm(smooth_data_dir_SH*\"/L2_2_3_c2.dat\", comments=true)[:,2]\n",
    "L2_3_4_c2     = readdlm(smooth_data_dir_SH*\"/L2_3_4_c2.dat\", comments=true)[:,2]\n",
    "smooth_p_L2_2_SH  = log2.(sqrt.(L2_2_3_c2)./sqrt.(L2_3_4_c2)) \n",
    "smooth_t_2_SH = readdlm(smooth_data_dir_SH*\"/L2_2_3_c2.dat\", comments=true)[:,1];"
   ]
  },
  {
   "cell_type": "code",
   "execution_count": 24,
   "metadata": {},
   "outputs": [],
   "source": [
    "## CIBVP tests 1, 2, 3, for given ##\n",
    "\n",
    "fig = figure(\"pyplot_subplot_touching\",figsize=(10,4))\n",
    "subplots_adjust(hspace=0.08, wspace=0.09, top = 0.965, bottom = 0.165, right=0.985, left=0.065)# Set the vertical spacing between axes\n",
    "\n",
    "# CIBVP given data test 1\n",
    "subplot(111)\n",
    "grid(\"on\")\n",
    "#x-axis\n",
    "xlim(0.0,20.0) # Set the x-limits\n",
    "xticks(0.0:5:20.0,fontsize=\"18\") # Set the x-tick range and step size\n",
    "xlabel(\"time\",fontsize=\"20\")\n",
    "#y-axis\n",
    "ylabel(L\"\\mathcal{C}_{self}\",fontsize=\"20\")\n",
    "yticks(0.0:1.0:3.0,fontsize=\"18\")\n",
    "ylim(0.0,3)\n",
    "#plot\n",
    "plot(smooth_t_0_SH, smooth_p_L2_0_SH, linestyle=\":\" , linewidth=5,  \n",
    "label=L\"\\log_2{\\left(||\\mathbf{u}_{h_0}-\\mathbf{u}_{h_1}||_{L^2}\\,/\\,||\\mathbf{u}_{h_1}-\\mathbf{u}_{h_2}||_{L^2}\\right)}\")\n",
    "plot(smooth_t_1_SH, smooth_p_L2_1_SH, linestyle=\"-.\", linewidth=4.5, \n",
    "label=L\"\\log_2{\\left(||\\mathbf{u}_{h_1}-\\mathbf{u}_{h_2}||_{L^2}\\,/\\,||\\mathbf{u}_{h_2}-\\mathbf{u}_{h_3}||_{L^2}\\right)}\")\n",
    "plot(smooth_t_2_SH, smooth_p_L2_2_SH, linestyle=\"--\", linewidth=4.5,\n",
    "label=L\"\\log_2{\\left(||\\mathbf{u}_{h_2}-\\mathbf{u}_{h_3}||_{L^2}\\,/ \\,||\\mathbf{u}_{h_3}-\\mathbf{u}_{h_4}||_{L^2}\\right)}\")\n",
    "# LEGEND\n",
    "legend(fontsize=\"15\", loc=4)\n",
    "###############################\n",
    "\n",
    "fig.canvas.draw() # Update the figure"
   ]
  },
  {
   "cell_type": "code",
   "execution_count": null,
   "metadata": {},
   "outputs": [],
   "source": []
  }
 ],
 "metadata": {
  "kernelspec": {
   "display_name": "Julia 1.8.5",
   "language": "julia",
   "name": "julia-1.8"
  },
  "language_info": {
   "file_extension": ".jl",
   "mimetype": "application/julia",
   "name": "julia",
   "version": "1.8.5"
  }
 },
 "nbformat": 4,
 "nbformat_minor": 2
}
