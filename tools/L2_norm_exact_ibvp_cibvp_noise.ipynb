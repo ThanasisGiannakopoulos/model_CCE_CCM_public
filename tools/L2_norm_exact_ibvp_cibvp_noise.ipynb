{
 "cells": [
  {
   "cell_type": "code",
   "execution_count": 6,
   "metadata": {},
   "outputs": [
    {
     "data": {
      "text/plain": [
       "true"
      ]
     },
     "execution_count": 6,
     "metadata": {},
     "output_type": "execute_result"
    }
   ],
   "source": [
    "using PyPlot\n",
    "using LaTeXStrings\n",
    "using DelimitedFiles\n",
    "pygui(true)"
   ]
  },
  {
   "cell_type": "code",
   "execution_count": 13,
   "metadata": {},
   "outputs": [
    {
     "data": {
      "text/plain": [
       "\"/home/thanasis/repos/model_CCE_CCM_public/examples/run_cce/\""
      ]
     },
     "execution_count": 13,
     "metadata": {},
     "output_type": "execute_result"
    }
   ],
   "source": [
    "# give the directory where the data from all the runs are saved\n",
    "your_dir = \"/home/thanasis/repos/model_CCE_CCM_public/examples/run_cce/\""
   ]
  },
  {
   "cell_type": "code",
   "execution_count": 23,
   "metadata": {},
   "outputs": [
    {
     "data": {
      "text/plain": [
       "321-element Vector{Float64}:\n",
       " 0.00010077717213803057\n",
       " 9.976574202096463e-5\n",
       " 0.0001004671770744781\n",
       " 0.00010075399094016806\n",
       " 0.00010112355003552257\n",
       " 0.0001017668866302799\n",
       " 0.00010214096743582861\n",
       " 0.00010276148198759591\n",
       " 0.00010280155576464734\n",
       " 0.00010310604804690045\n",
       " 0.00010361675792233566\n",
       " 0.00010401672253820479\n",
       " 0.00010431795809905872\n",
       " ⋮\n",
       " 9.965910844365263e-5\n",
       " 9.969714775589316e-5\n",
       " 9.978900420459994e-5\n",
       " 9.977868202656624e-5\n",
       " 9.98901885662447e-5\n",
       " 9.989412311383053e-5\n",
       " 0.00010000511106860202\n",
       " 0.00010005304337418083\n",
       " 0.00010006517383390242\n",
       " 0.00010022114041062632\n",
       " 0.00010027530875337166\n",
       " 0.00010023019730671644"
      ]
     },
     "execution_count": 23,
     "metadata": {},
     "output_type": "execute_result"
    }
   ],
   "source": [
    "##LOAD SMOOTH DATA SH##\n",
    "\n",
    "# DATA DIR; change to the directory where you have the norms of the SH_smooth_B1.jl model\n",
    "test_dir = your_dir*\"SYMH_SYMH_noise_t20_L2_amp/norms_exact_cauchy_char\"\n",
    "\n",
    "#N=0\n",
    "res = \"/L2_0.dat\"\n",
    "tt_0                  = readdlm(test_dir*res, comments=true)[:,1]\n",
    "L2_cauchy_0           = readdlm(test_dir*res, comments=true)[:,2]\n",
    "L2_char_0             = readdlm(test_dir*res, comments=true)[:,3]\n",
    "\n",
    "#N=1\n",
    "res = \"/L2_1.dat\"\n",
    "tt_1             = readdlm(test_dir*res, comments=true)[:,1]\n",
    "L2_cauchy_1      = readdlm(test_dir*res, comments=true)[:,2]\n",
    "L2_char_1        = readdlm(test_dir*res, comments=true)[:,3]\n",
    "\n",
    "#N=2\n",
    "res = \"/L2_2.dat\"\n",
    "tt_2             = readdlm(test_dir*res, comments=true)[:,1]\n",
    "L2_cauchy_2      = readdlm(test_dir*res, comments=true)[:,2]\n",
    "L2_char_2        = readdlm(test_dir*res, comments=true)[:,3]\n",
    "\n",
    "#N=3\n",
    "res = \"/L2_3.dat\"\n",
    "tt_3             = readdlm(test_dir*res, comments=true)[:,1]\n",
    "L2_cauchy_3      = readdlm(test_dir*res, comments=true)[:,2]\n",
    "L2_char_3        = readdlm(test_dir*res, comments=true)[:,3]\n",
    "\n",
    "#N=4\n",
    "res = \"/L2_4.dat\"\n",
    "tt_4             = readdlm(test_dir*res, comments=true)[:,1]\n",
    "L2_cauchy_4      = readdlm(test_dir*res, comments=true)[:,2]\n",
    "L2_char_4        = readdlm(test_dir*res, comments=true)[:,3]"
   ]
  },
  {
   "cell_type": "code",
   "execution_count": 24,
   "metadata": {},
   "outputs": [],
   "source": [
    "## PLOT ##\n",
    "\n",
    "fig = figure(\"pyplot_subplot_touching\",figsize=(10,4.5))\n",
    "subplots_adjust(hspace=0.08, wspace=0.04, top = 0.97, bottom = 0.17, right=0.975, left=0.07)# Set the vertical spacing between axes\n",
    "\n",
    "subplot(111) # Create the 1st fig in 2 rows and 2 columns\n",
    "grid(\"on\")\n",
    "#x-axis\n",
    "xlim(0.0,20.0) # Set the x-limits\n",
    "xticks(0.0:5:20.0,fontsize=\"20\") # Set the x-tick range and step size\n",
    "xlabel(\"time\",fontsize=\"20\")\n",
    "#y-axis\n",
    "ylabel(L\"\\mathcal{C}_{exact}\",fontsize=\"25\")\n",
    "yticks(0.0:1.0:3.0,fontsize=\"20\")\n",
    "ylim(0.0,3.0)\n",
    "#plot\n",
    "plot(tt_0, log2.(sqrt.(L2_cauchy_0)./sqrt.(L2_cauchy_1)), linestyle=\":\" , linewidth=5,  \n",
    "label=L\"\\log_2{\\left(||\\mathbf{u_1}_{h_0}||_{L^2}\\,/\\,||\\mathbf{u_1}_{h_1}||_{L^2}\\right)}\")\n",
    "plot(tt_0, log2.(sqrt.(L2_cauchy_1)./sqrt.(L2_cauchy_2)), linestyle=\"-.\", linewidth=4.5, \n",
    "label=L\"\\log_2{\\left(||\\mathbf{u_1}_{h_1}||_{L^2}\\,/\\,||\\mathbf{u_1}_{h_2}||_{L^2}\\right)}\")\n",
    "plot(tt_0, log2.(sqrt.(L2_cauchy_2)./sqrt.(L2_cauchy_3)), linestyle=\"--\", linewidth=4.5,\n",
    "label=L\"\\log_2{\\left(||\\mathbf{u_1}_{h_2}||_{L^2}\\,/ \\,||\\mathbf{u_1}_{h_3}||_{L^2}\\right)}\")\n",
    "plot(tt_0, log2.(sqrt.(L2_cauchy_3)./sqrt.(L2_cauchy_4)), linestyle=\"-\" , linewidth=4.2,\n",
    "label=L\"\\log_2{\\left(||\\mathbf{u_1}_{h_3}||_{L^2}\\,/ \\,||\\mathbf{u_1}_{h_4}||_{L^2}\\right)}\")\n",
    "# LEGEND\n",
    "legend(fontsize=\"22\", loc=8)\n",
    "################################\n",
    "\n",
    "\n",
    "fig.canvas.draw() # Update the figure"
   ]
  },
  {
   "cell_type": "code",
   "execution_count": 26,
   "metadata": {},
   "outputs": [],
   "source": [
    "## PLOT ##\n",
    "\n",
    "fig = figure(\"pyplot_subplot_touching\",figsize=(10,4.5))\n",
    "subplots_adjust(hspace=0.08, wspace=0.04, top = 0.97, bottom = 0.17, right=0.975, left=0.07)# Set the vertical spacing between axes\n",
    "\n",
    "subplot(111) # Create the 1st fig in 2 rows and 2 columns\n",
    "grid(\"on\")\n",
    "#x-axis\n",
    "xlim(0.0,20.0) # Set the x-limits\n",
    "xticks(0.0:5:20.0,fontsize=\"20\") # Set the x-tick range and step size\n",
    "xlabel(\"time\",fontsize=\"20\")\n",
    "#y-axis\n",
    "ylabel(L\"\\mathcal{C}_{exact}\",fontsize=\"25\")\n",
    "yticks(0.0:1.0:3.0,fontsize=\"20\")\n",
    "ylim(0.0,3.0)\n",
    "#plot\n",
    "plot(tt_0, log2.(sqrt.(L2_char_0)./sqrt.(L2_char_1)), linestyle=\":\" , linewidth=5,  \n",
    "label=L\"\\log_2{\\left(||\\mathbf{u_2}_{h_0}||_{L^2}\\,/\\,||\\mathbf{u_2}_{h_1}||_{L^2}\\right)}\")\n",
    "plot(tt_0, log2.(sqrt.(L2_char_1)./sqrt.(L2_char_2)), linestyle=\"-.\", linewidth=4.5, \n",
    "label=L\"\\log_2{\\left(||\\mathbf{u_2}_{h_1}||_{L^2}\\,/\\,||\\mathbf{u_2}_{h_2}||_{L^2}\\right)}\")\n",
    "plot(tt_0, log2.(sqrt.(L2_char_2)./sqrt.(L2_char_3)), linestyle=\"--\", linewidth=4.5,\n",
    "label=L\"\\log_2{\\left(||\\mathbf{u_2}_{h_2}||_{L^2}\\,/ \\,||\\mathbf{u_2}_{h_3}||_{L^2}\\right)}\")\n",
    "plot(tt_0, log2.(sqrt.(L2_char_3)./sqrt.(L2_char_4)), linestyle=\"-\" , linewidth=4.2,\n",
    "label=L\"\\log_2{\\left(||\\mathbf{u_2}_{h_3}||_{L^2}\\,/ \\,||\\mathbf{u_2}_{h_4}||_{L^2}\\right)}\")\n",
    "# LEGEND\n",
    "legend(fontsize=\"22\", loc=8)\n",
    "################################\n",
    "\n",
    "\n",
    "fig.canvas.draw() # Update the figure"
   ]
  },
  {
   "cell_type": "code",
   "execution_count": null,
   "metadata": {},
   "outputs": [],
   "source": []
  }
 ],
 "metadata": {
  "kernelspec": {
   "display_name": "Julia 1.8.5",
   "language": "julia",
   "name": "julia-1.8"
  },
  "language_info": {
   "file_extension": ".jl",
   "mimetype": "application/julia",
   "name": "julia",
   "version": "1.8.5"
  }
 },
 "nbformat": 4,
 "nbformat_minor": 2
}
