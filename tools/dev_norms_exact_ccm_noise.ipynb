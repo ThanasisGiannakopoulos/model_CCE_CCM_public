{
 "cells": [
  {
   "cell_type": "code",
   "execution_count": 1,
   "metadata": {},
   "outputs": [
    {
     "data": {
      "text/plain": [
       "true"
      ]
     },
     "execution_count": 1,
     "metadata": {},
     "output_type": "execute_result"
    }
   ],
   "source": [
    "using PyPlot\n",
    "using LaTeXStrings\n",
    "using DelimitedFiles\n",
    "pygui(true)"
   ]
  },
  {
   "cell_type": "code",
   "execution_count": 2,
   "metadata": {},
   "outputs": [
    {
     "data": {
      "text/plain": [
       "\"/home/thanasis/repos/model_CCE_CCM_public/examples/run_ccm/\""
      ]
     },
     "execution_count": 2,
     "metadata": {},
     "output_type": "execute_result"
    }
   ],
   "source": [
    "# give the directory where the data from all the runs are saved\n",
    "your_dir = \"/home/thanasis/repos/model_CCE_CCM_public/examples/run_ccm/\""
   ]
  },
  {
   "cell_type": "code",
   "execution_count": 22,
   "metadata": {},
   "outputs": [
    {
     "data": {
      "text/plain": [
       "321-element Vector{Float64}:\n",
       " 0.0741246201173069\n",
       " 0.056844353570631306\n",
       " 0.05640018217599042\n",
       " 0.05656882496862297\n",
       " 0.05536934921561852\n",
       " 0.05516809874109771\n",
       " 0.05489754751247755\n",
       " 0.054071326982665334\n",
       " 0.05389073984736207\n",
       " 0.05374137212440635\n",
       " 0.05232295125421171\n",
       " 0.05293069482408909\n",
       " 0.05218232923999924\n",
       " ⋮\n",
       " 0.009024473253865198\n",
       " 0.009098043250252317\n",
       " 0.009063904942285194\n",
       " 0.00912259754881995\n",
       " 0.009042096889176052\n",
       " 0.009026881775133319\n",
       " 0.009025726130722011\n",
       " 0.008919124216520677\n",
       " 0.008890734641339885\n",
       " 0.008971152527903873\n",
       " 0.008924869727353185\n",
       " 0.009044657191945067"
      ]
     },
     "execution_count": 22,
     "metadata": {},
     "output_type": "execute_result"
    }
   ],
   "source": [
    "##LOAD SMOOTH DATA SH##\n",
    "\n",
    "# DATA DIR; change to the directory where you have the norms of the SH_smooth_B1.jl model\n",
    "test_dir = your_dir*\"SYMH_SYMH_noise_t20_H1_amp/dev_norms_exact\"\n",
    "\n",
    "#N=0\n",
    "res = \"/dev_norms_0.dat\"\n",
    "tt_0    = readdlm(test_dir*res, comments=true)[:,1]\n",
    "q_0     = readdlm(test_dir*res, comments=true)[:,2]\n",
    "H1_0    = readdlm(test_dir*res, comments=true)[:,3]\n",
    "\n",
    "#N=1\n",
    "res = \"/dev_norms_1.dat\"\n",
    "tt_1     = readdlm(test_dir*res, comments=true)[:,1]\n",
    "q_1    = readdlm(test_dir*res, comments=true)[:,2]\n",
    "H1_1    = readdlm(test_dir*res, comments=true)[:,3]\n",
    "\n",
    "#N=2\n",
    "res = \"/dev_norms_2.dat\"\n",
    "tt_2     = readdlm(test_dir*res, comments=true)[:,1]\n",
    "q_2    = readdlm(test_dir*res, comments=true)[:,2]\n",
    "H1_2    = readdlm(test_dir*res, comments=true)[:,3]\n",
    "\n",
    "#N=3\n",
    "res = \"/dev_norms_3.dat\"\n",
    "tt_3     = readdlm(test_dir*res, comments=true)[:,1]\n",
    "q_3    = readdlm(test_dir*res, comments=true)[:,2]\n",
    "H1_3    = readdlm(test_dir*res, comments=true)[:,3]\n",
    "\n",
    "#N=4\n",
    "res = \"/dev_norms_4.dat\"\n",
    "tt_4     = readdlm(test_dir*res, comments=true)[:,1]\n",
    "q_4    = readdlm(test_dir*res, comments=true)[:,2]\n",
    "H1_4    = readdlm(test_dir*res, comments=true)[:,3]\n",
    "\n"
   ]
  },
  {
   "cell_type": "code",
   "execution_count": 24,
   "metadata": {},
   "outputs": [],
   "source": [
    "## PLOT ##\n",
    "\n",
    "fig = figure(\"pyplot_subplot_touching\",figsize=(10,9))\n",
    "subplots_adjust(hspace=0.08, wspace=0.04, top = 0.985, bottom = 0.075, right=0.98, left=0.07)# Set the vertical spacing between axes\n",
    "\n",
    "# q norm\n",
    "subplot(211) # Create the 1st fig in 2 rows and 2 columns\n",
    "grid(\"on\")\n",
    "#x-axis\n",
    "xlim(0.0,20.0) # Set the x-limits\n",
    "xticks(0.0:5:20.0,fontsize=\"0\") # Set the x-tick range and step size\n",
    "xlabel(\"time\",fontsize=\"0\")\n",
    "#y-axis\n",
    "ylabel(L\"\\mathcal{C}_{exact}\",fontsize=\"25\")\n",
    "yticks(0.0:1:3.0,fontsize=\"20\")\n",
    "ylim(0.0,3)\n",
    "#plot\n",
    "plot(tt_0, log2.(sqrt.(q_0)./sqrt.(q_1)), linestyle=\":\" , linewidth=5,  \n",
    "label=L\"\\log_2{\\left(||\\mathbf{u}_{h_0}||_q\\,/\\,||\\mathbf{u}_{h_1}||_q\\right)}\")\n",
    "plot(tt_0, log2.(sqrt.(q_1)./sqrt.(q_2)), linestyle=\"-.\", linewidth=4.5, \n",
    "label=L\"\\log_2{\\left(||\\mathbf{u}_{h_1}||_q\\,/\\,||\\mathbf{u}_{h_2}||_q\\right)}\")\n",
    "plot(tt_0, log2.(sqrt.(q_2)./sqrt.(q_3)), linestyle=\"--\", linewidth=4.5,\n",
    "label=L\"\\log_2{\\left(||\\mathbf{u}_{h_2}||_q\\,/ \\,||\\mathbf{u}_{h_3}||_q\\right)}\")\n",
    "plot(tt_0, log2.(sqrt.(q_3)./sqrt.(q_4)), linestyle=\"-\" , linewidth=4.2,\n",
    "label=L\"\\log_2{\\left(||\\mathbf{u}_{h_3}||_q\\,/ \\,||\\mathbf{u}_{h_4}||_q\\right)}\")\n",
    "# LEGEND\n",
    "legend(fontsize=\"22\", loc=8)\n",
    "################################\n",
    "\n",
    "# H1 norm\n",
    "subplot(212)\n",
    "grid(\"on\")\n",
    "#x-axis\n",
    "xlim(0.0,20.0) # Set the x-limits\n",
    "xticks(0.0:5:20.0,fontsize=\"20\") # Set the x-tick range and step size\n",
    "xlabel(\"time\",fontsize=\"20\")\n",
    "#y-axis\n",
    "ylabel(L\"\\mathcal{C}_{exact}\",fontsize=\"25\")\n",
    "yticks(0.0:1.0:3.0,fontsize=\"20\")\n",
    "ylim(0.0,3)\n",
    "#plot\n",
    "plot(tt_0, log2.(sqrt.(H1_0)./sqrt.(H1_1)), linestyle=\":\" , linewidth=5,  \n",
    "label=L\"\\log_2{\\left(||\\mathbf{u}_{h_0}||_{H1}\\,/\\,||\\mathbf{u}_{h_1}||_{H1}\\right)}\")\n",
    "plot(tt_0, log2.(sqrt.(H1_1)./sqrt.(H1_2)), linestyle=\"-.\", linewidth=4.5, \n",
    "label=L\"\\log_2{\\left(||\\mathbf{u}_{h_1}||_{H1}\\,/\\,||\\mathbf{u}_{h_2}||_{H1}\\right)}\")\n",
    "plot(tt_0, log2.(sqrt.(H1_2)./sqrt.(H1_3)), linestyle=\"--\", linewidth=4.5,\n",
    "label=L\"\\log_2{\\left(||\\mathbf{u}_{h_2}||_{H1}\\,/ \\,||\\mathbf{u}_{h_3}||_{H1}\\right)}\")\n",
    "plot(tt_0, log2.(sqrt.(H1_3)./sqrt.(H1_4)), linestyle=\"-\" , linewidth=4.2,\n",
    "label=L\"\\log_2{\\left(||\\mathbf{u}_{h_3}||_{H1}\\,/ \\,||\\mathbf{u}_{h_4}||_{H1}\\right)}\")\n",
    "# LEGEND\n",
    "legend(fontsize=\"22\", loc=8)\n",
    "###############################\n",
    "\n",
    "fig.canvas.draw() # Update the figure"
   ]
  },
  {
   "cell_type": "code",
   "execution_count": null,
   "metadata": {},
   "outputs": [],
   "source": []
  }
 ],
 "metadata": {
  "kernelspec": {
   "display_name": "Julia 1.8.5",
   "language": "julia",
   "name": "julia-1.8"
  },
  "language_info": {
   "file_extension": ".jl",
   "mimetype": "application/julia",
   "name": "julia",
   "version": "1.8.5"
  }
 },
 "nbformat": 4,
 "nbformat_minor": 2
}
