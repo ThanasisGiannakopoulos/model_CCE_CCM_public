{
 "cells": [
  {
   "cell_type": "code",
   "execution_count": 6,
   "metadata": {},
   "outputs": [
    {
     "data": {
      "text/plain": [
       "true"
      ]
     },
     "execution_count": 6,
     "metadata": {},
     "output_type": "execute_result"
    }
   ],
   "source": [
    "using PyPlot\n",
    "using LaTeXStrings\n",
    "using DelimitedFiles\n",
    "pygui(true)"
   ]
  },
  {
   "cell_type": "code",
   "execution_count": 2,
   "metadata": {},
   "outputs": [
    {
     "data": {
      "text/plain": [
       "\"/home/thanasis/repos/model_CCE_CCM_public/examples/run_ccm/\""
      ]
     },
     "execution_count": 2,
     "metadata": {},
     "output_type": "execute_result"
    }
   ],
   "source": [
    "# give the directory where the data from all the runs are saved\n",
    "your_dir = \"/home/thanasis/repos/model_CCE_CCM_public/examples/run_ccm/\""
   ]
  },
  {
   "cell_type": "code",
   "execution_count": 19,
   "metadata": {},
   "outputs": [
    {
     "data": {
      "text/plain": [
       "321-element Vector{Float64}:\n",
       " 0.0017906798195146797\n",
       " 0.0028376848509109333\n",
       " 0.004311289863566517\n",
       " 0.006356953327298252\n",
       " 0.009055995523716324\n",
       " 0.012544443816427234\n",
       " 0.01647948000506963\n",
       " 0.020801387736658346\n",
       " 0.02559564750004412\n",
       " 0.030764364469404004\n",
       " 0.03637495991305069\n",
       " 0.04243748038570707\n",
       " 0.0485935070424073\n",
       " ⋮\n",
       " 2.4015348740480387\n",
       " 2.411119884011101\n",
       " 2.421022389118913\n",
       " 2.4308454349477038\n",
       " 2.4406208257420876\n",
       " 2.4503480615885755\n",
       " 2.4599968522740756\n",
       " 2.4695709197272566\n",
       " 2.4792735773979397\n",
       " 2.4889502672691166\n",
       " 2.498303081644175\n",
       " 2.507724062061237"
      ]
     },
     "execution_count": 19,
     "metadata": {},
     "output_type": "execute_result"
    }
   ],
   "source": [
    "##LOAD SMOOTH DATA SH##/home/thanasis/repos/model_CCE_CCM/examples/CCM_2d/CCmatch_runs_00KOdiss_diff_ampl/symh1_B0_WH1_B0_noise_t20_L2\n",
    "\n",
    "# DATA DIR; change to the directory where you have the norms of the SH_smooth_B1.jl model\n",
    "test_dir = your_dir*\"WH_WH_noise_t20_L2_amp/norms_exact\"\n",
    "\n",
    "#N=0\n",
    "res = \"/L2_0.dat\"\n",
    "tt_0                  = readdlm(test_dir*res, comments=true)[:,1]\n",
    "l2_in_0               = readdlm(test_dir*res, comments=true)[:,2]\n",
    "l2_out_x_max_0        = readdlm(test_dir*res, comments=true)[:,3]\n",
    "l2_cauchy_0           = readdlm(test_dir*res, comments=true)[:,4]\n",
    "l2_cauchy_in_1_0      = readdlm(test_dir*res, comments=true)[:,5]\n",
    "L2_0                  = readdlm(test_dir*res, comments=true)[:,6]\n",
    "\n",
    "#N=1\n",
    "res = \"/L2_1.dat\"\n",
    "tt_1                  = readdlm(test_dir*res, comments=true)[:,1]\n",
    "l2_in_1               = readdlm(test_dir*res, comments=true)[:,2]\n",
    "l2_out_x_max_1        = readdlm(test_dir*res, comments=true)[:,3]\n",
    "l2_cauchy_1           = readdlm(test_dir*res, comments=true)[:,4]\n",
    "l2_cauchy_in_1_1      = readdlm(test_dir*res, comments=true)[:,5]\n",
    "L2_1                  = readdlm(test_dir*res, comments=true)[:,6]\n",
    "\n",
    "#N=2\n",
    "res = \"/L2_2.dat\"\n",
    "tt_2                  = readdlm(test_dir*res, comments=true)[:,1]\n",
    "l2_in_2               = readdlm(test_dir*res, comments=true)[:,2]\n",
    "l2_out_x_max_2        = readdlm(test_dir*res, comments=true)[:,3]\n",
    "l2_cauchy_2           = readdlm(test_dir*res, comments=true)[:,4]\n",
    "l2_cauchy_in_1_2      = readdlm(test_dir*res, comments=true)[:,5]\n",
    "L2_2                  = readdlm(test_dir*res, comments=true)[:,6]\n",
    "\n",
    "#N=3\n",
    "res = \"/L2_3.dat\"\n",
    "tt_3                  = readdlm(test_dir*res, comments=true)[:,1]\n",
    "l2_in_3               = readdlm(test_dir*res, comments=true)[:,2]\n",
    "l2_out_x_max_3        = readdlm(test_dir*res, comments=true)[:,3]\n",
    "l2_cauchy_3           = readdlm(test_dir*res, comments=true)[:,4]\n",
    "l2_cauchy_in_1_3      = readdlm(test_dir*res, comments=true)[:,5]\n",
    "L2_3                  = readdlm(test_dir*res, comments=true)[:,6]\n",
    "\n",
    "#N=4\n",
    "res = \"/L2_4.dat\"\n",
    "tt_4                  = readdlm(test_dir*res, comments=true)[:,1]\n",
    "l2_in_4               = readdlm(test_dir*res, comments=true)[:,2]\n",
    "l2_out_x_max_4        = readdlm(test_dir*res, comments=true)[:,3]\n",
    "l2_cauchy_4           = readdlm(test_dir*res, comments=true)[:,4]\n",
    "l2_cauchy_in_1_4      = readdlm(test_dir*res, comments=true)[:,5]\n",
    "L2_4                  = readdlm(test_dir*res, comments=true)[:,6]\n",
    "\n",
    "#N=5\n",
    "#res = \"/L2_5.dat\"\n",
    "#tt_5                  = readdlm(test_dir*res, comments=true)[:,1]\n",
    "#l2_in_5               = readdlm(test_dir*res, comments=true)[:,2]\n",
    "#l2_out_x_max_5        = readdlm(test_dir*res, comments=true)[:,3]\n",
    "#l2_cauchy_5           = readdlm(test_dir*res, comments=true)[:,4]\n",
    "#l2_cauchy_in_1_5      = readdlm(test_dir*res, comments=true)[:,5]\n",
    "#L2_5               = readdlm(test_dir*res, comments=true)[:,6]"
   ]
  },
  {
   "cell_type": "code",
   "execution_count": 20,
   "metadata": {},
   "outputs": [],
   "source": [
    "## PLOT ##\n",
    "\n",
    "fig = figure(\"pyplot_subplot_touching\",figsize=(10,4.5))\n",
    "subplots_adjust(hspace=0.08, wspace=0.04, top = 0.97, bottom = 0.17, right=0.975, left=0.07)# Set the vertical spacing between axes\n",
    "\n",
    "# q norm\n",
    "subplot(111) # Create the 1st fig in 2 rows and 2 columns\n",
    "grid(\"on\")\n",
    "#x-axis\n",
    "xlim(0.0,20.0) # Set the x-limits\n",
    "xticks(0.0:5:20.0,fontsize=\"20\") # Set the x-tick range and step size\n",
    "xlabel(\"time\",fontsize=\"20\")\n",
    "#y-axis\n",
    "ylabel(L\"\\mathcal{C}_{exact}\",fontsize=\"25\")\n",
    "yticks(0.0:1.0:3.0,fontsize=\"20\")\n",
    "ylim(0.0,3.0)\n",
    "#plot\n",
    "plot(tt_0, log2.(sqrt.(L2_0)./sqrt.(L2_1)), linestyle=\":\" , linewidth= 5,  \n",
    "label=L\"\\log_2{\\left(||\\mathbf{u}_{h_0}||_{L^2}\\,/\\,||\\mathbf{u}_{h_1}||_{L^2}\\right)}\")\n",
    "plot(tt_0, log2.(sqrt.(L2_1)./sqrt.(L2_2)), linestyle=\"-.\", linewidth=4.5, \n",
    "label=L\"\\log_2{\\left(||\\mathbf{u}_{h_1}||_{L^2}\\,/\\,||\\mathbf{u}_{h_2}||_{L^2}\\right)}\")\n",
    "plot(tt_0, log2.(sqrt.(L2_2)./sqrt.(L2_3)), linestyle=\"--\", linewidth=4.5,\n",
    "label=L\"\\log_2{\\left(||\\mathbf{u}_{h_2}||_{L^2}\\,/ \\,||\\mathbf{u}_{h_3}||_{L^2}\\right)}\")\n",
    "plot(tt_0, log2.(sqrt.(L2_3)./sqrt.(L2_4)), linestyle=\"-\" , linewidth=4.2,\n",
    "label=L\"\\log_2{\\left(||\\mathbf{u}_{h_3}||_{L^2}\\,/ \\,||\\mathbf{u}_{h_4}||_{L^2}\\right)}\")\n",
    "#plot(tt_0, log2.(sqrt.(L2_4)./sqrt.(L2_5)), linestyle=\"-\" , linewidth=3,\n",
    "#label=L\"\\log_2{\\left(||\\mathbf{u}_{h_4}||_{L^2}\\,/ \\,||\\mathbf{u}_{h_5}||_{L^2}\\right)}\")\n",
    "# LEGEND\n",
    "legend(fontsize=\"22\", loc=8)\n",
    "################################\n",
    "\n",
    "\n",
    "fig.canvas.draw() # Update the figure"
   ]
  },
  {
   "cell_type": "code",
   "execution_count": 5,
   "metadata": {},
   "outputs": [
    {
     "name": "stdout",
     "output_type": "stream",
     "text": [
      "2.0905124496648977\n",
      "1.9783264373831648\n",
      "2.0110555626329516\n",
      "1.9995892118860839\n"
     ]
    }
   ],
   "source": [
    "println(log2.(sqrt.(L2_0)./sqrt.(L2_1))[1])\n",
    "println(log2.(sqrt.(L2_1)./sqrt.(L2_2))[1])\n",
    "println(log2.(sqrt.(L2_2)./sqrt.(L2_3))[1])\n",
    "println(log2.(sqrt.(L2_3)./sqrt.(L2_4))[1])\n",
    "#println(log2.(sqrt.(L2_4)./sqrt.(L2_5))[1])"
   ]
  },
  {
   "cell_type": "code",
   "execution_count": null,
   "metadata": {},
   "outputs": [],
   "source": []
  }
 ],
 "metadata": {
  "kernelspec": {
   "display_name": "Julia 1.8.5",
   "language": "julia",
   "name": "julia-1.8"
  },
  "language_info": {
   "file_extension": ".jl",
   "mimetype": "application/julia",
   "name": "julia",
   "version": "1.8.5"
  }
 },
 "nbformat": 4,
 "nbformat_minor": 2
}
