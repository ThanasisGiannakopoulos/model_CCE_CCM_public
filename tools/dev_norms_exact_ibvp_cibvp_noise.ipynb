{
 "cells": [
  {
   "cell_type": "code",
   "execution_count": 8,
   "metadata": {},
   "outputs": [
    {
     "data": {
      "text/plain": [
       "true"
      ]
     },
     "execution_count": 8,
     "metadata": {},
     "output_type": "execute_result"
    }
   ],
   "source": [
    "using PyPlot\n",
    "using LaTeXStrings\n",
    "using DelimitedFiles\n",
    "pygui(true)"
   ]
  },
  {
   "cell_type": "code",
   "execution_count": 35,
   "metadata": {},
   "outputs": [
    {
     "data": {
      "text/plain": [
       "\"/home/thanasis/repos/model_CCE_CCM_public/examples/run_ibvp_cibvp/\""
      ]
     },
     "execution_count": 35,
     "metadata": {},
     "output_type": "execute_result"
    }
   ],
   "source": [
    "# give the directory where the data from all the runs are saved\n",
    "your_dir = \"/home/thanasis/repos/model_CCE_CCM_public/examples/run_ibvp_cibvp/\""
   ]
  },
  {
   "cell_type": "code",
   "execution_count": 47,
   "metadata": {},
   "outputs": [
    {
     "data": {
      "text/plain": [
       "321-element Vector{Float64}:\n",
       " 0.023657424618209598\n",
       " 0.014644655302826331\n",
       " 0.01443814111838985\n",
       " 0.014255558370213642\n",
       " 0.014221243115658316\n",
       " 0.014363754531712769\n",
       " 0.014154044310210149\n",
       " 0.013908174904326377\n",
       " 0.014103300933278962\n",
       " 0.013934768411509674\n",
       " 0.01384636631682051\n",
       " 0.013714625307100128\n",
       " 0.013688912822417545\n",
       " ⋮\n",
       " 0.008858461550567267\n",
       " 0.00885181771549388\n",
       " 0.008957599069859708\n",
       " 0.008879571143887453\n",
       " 0.008961137743523959\n",
       " 0.00891449834785268\n",
       " 0.008915038926518778\n",
       " 0.00889558452297955\n",
       " 0.00897036132264488\n",
       " 0.008974774511721689\n",
       " 0.008975315065436426\n",
       " 0.009067426061668596"
      ]
     },
     "execution_count": 47,
     "metadata": {},
     "output_type": "execute_result"
    }
   ],
   "source": [
    "\n",
    "# DATA DIR; change to the directory where you have the norms of the SH_smooth_B1.jl model\n",
    "test_dir = your_dir*\"SYMH_SYMH_noise_t20_H1_amp/dev_norms_exact_cauchy_char\"\n",
    "\n",
    "#N=0\n",
    "res = \"/L2_0.dat\"\n",
    "tt_0                = readdlm(test_dir*res, comments=true)[:,1]\n",
    "q_cauchy_0          = readdlm(test_dir*res, comments=true)[:,2]\n",
    "q_char_0            = readdlm(test_dir*res, comments=true)[:,3]\n",
    "H1_cauchy_0         = readdlm(test_dir*res, comments=true)[:,4]\n",
    "H1_char_0           = readdlm(test_dir*res, comments=true)[:,5]\n",
    "\n",
    "#N=1\n",
    "res = \"/L2_1.dat\"\n",
    "tt_1                = readdlm(test_dir*res, comments=true)[:,1]\n",
    "q_cauchy_1          = readdlm(test_dir*res, comments=true)[:,2]\n",
    "q_char_1            = readdlm(test_dir*res, comments=true)[:,3]\n",
    "H1_cauchy_1         = readdlm(test_dir*res, comments=true)[:,4]\n",
    "H1_char_1           = readdlm(test_dir*res, comments=true)[:,5]\n",
    "\n",
    "#N=2\n",
    "res = \"/L2_2.dat\"\n",
    "tt_2                = readdlm(test_dir*res, comments=true)[:,1]\n",
    "q_cauchy_2          = readdlm(test_dir*res, comments=true)[:,2]\n",
    "q_char_2            = readdlm(test_dir*res, comments=true)[:,3]\n",
    "H1_cauchy_2         = readdlm(test_dir*res, comments=true)[:,4]\n",
    "H1_char_2           = readdlm(test_dir*res, comments=true)[:,5]\n",
    "\n",
    "#N=3\n",
    "res = \"/L2_3.dat\"\n",
    "tt_3                = readdlm(test_dir*res, comments=true)[:,1]\n",
    "q_cauchy_3          = readdlm(test_dir*res, comments=true)[:,2]\n",
    "q_char_3            = readdlm(test_dir*res, comments=true)[:,3]\n",
    "H1_cauchy_3         = readdlm(test_dir*res, comments=true)[:,4]\n",
    "H1_char_3           = readdlm(test_dir*res, comments=true)[:,5]\n",
    "\n",
    "#N=4\n",
    "res = \"/L2_4.dat\"\n",
    "tt_4                = readdlm(test_dir*res, comments=true)[:,1]\n",
    "q_cauchy_4          = readdlm(test_dir*res, comments=true)[:,2]\n",
    "q_char_4            = readdlm(test_dir*res, comments=true)[:,3]\n",
    "H1_cauchy_4         = readdlm(test_dir*res, comments=true)[:,4]\n",
    "H1_char_4           = readdlm(test_dir*res, comments=true)[:,5]\n"
   ]
  },
  {
   "cell_type": "code",
   "execution_count": 49,
   "metadata": {},
   "outputs": [],
   "source": [
    "## PLOT ##\n",
    "\n",
    "fig = figure(\"pyplot_subplot_touching\",figsize=(10,9))\n",
    "subplots_adjust(hspace=0.08, wspace=0.04, top = 0.985, bottom = 0.075, right=0.98, left=0.07)# Set the vertical spacing between axes\n",
    "\n",
    "# q norm\n",
    "subplot(211) # Create the 1st fig in 2 rows and 2 columns\n",
    "grid(\"on\")\n",
    "#x-axis\n",
    "xlim(0.0,20.0) # Set the x-limits\n",
    "xticks(0.0:5:20.0,fontsize=\"0\") # Set the x-tick range and step size\n",
    "xlabel(\"time\",fontsize=\"0\")\n",
    "#y-axis\n",
    "ylabel(L\"\\mathcal{C}_{exact}\",fontsize=\"25\")\n",
    "yticks(0.0:1:3.0,fontsize=\"20\")\n",
    "ylim(0.0,3)\n",
    "#plot\n",
    "plot(tt_0, log2.(sqrt.(q_cauchy_0)./sqrt.(q_cauchy_1)), linestyle=\":\" , linewidth=5,  \n",
    "label=L\"\\log_2{\\left(||\\mathbf{u_1}_{h_0}||_q\\,/\\,||\\mathbf{u_1}_{h_1}||_q\\right)}\")\n",
    "plot(tt_0, log2.(sqrt.(q_cauchy_1)./sqrt.(q_cauchy_2)), linestyle=\"-.\", linewidth=4.5, \n",
    "label=L\"\\log_2{\\left(||\\mathbf{u_1}_{h_1}||_q\\,/\\,||\\mathbf{u_1}_{h_2}||_q\\right)}\")\n",
    "plot(tt_0, log2.(sqrt.(q_cauchy_2)./sqrt.(q_cauchy_3)), linestyle=\"--\", linewidth=4.5,\n",
    "label=L\"\\log_2{\\left(||\\mathbf{u_1}_{h_2}||_q\\,/ \\,||\\mathbf{u_1}_{h_3}||_q\\right)}\")\n",
    "plot(tt_0, log2.(sqrt.(q_cauchy_3)./sqrt.(q_cauchy_4)), linestyle=\"-\" , linewidth=4.2,\n",
    "label=L\"\\log_2{\\left(||\\mathbf{u_1}_{h_3}||_q\\,/ \\,||\\mathbf{u_1}_{h_4}||_q\\right)}\")\n",
    "# LEGEND\n",
    "legend(fontsize=\"22\", loc=8)\n",
    "################################\n",
    "\n",
    "# H1 norm\n",
    "subplot(212)\n",
    "grid(\"on\")\n",
    "#x-axis\n",
    "xlim(0.0,20.0) # Set the x-limits\n",
    "xticks(0.0:5:20.0,fontsize=\"20\") # Set the x-tick range and step size\n",
    "xlabel(\"time\",fontsize=\"20\")\n",
    "#y-axis\n",
    "ylabel(L\"\\mathcal{C}_{exact}\",fontsize=\"25\")\n",
    "yticks(0.0:1.0:3.0,fontsize=\"20\")\n",
    "ylim(0.0,3)\n",
    "#plot\n",
    "plot(tt_0, log2.(sqrt.(H1_cauchy_0)./sqrt.(H1_cauchy_1)), linestyle=\":\" , linewidth=5,  \n",
    "label=L\"\\log_2{\\left(||\\mathbf{u_1}_{h_0}||_{H1}\\,/\\,||\\mathbf{u_1}_{h_1}||_{H1}\\right)}\")\n",
    "plot(tt_0, log2.(sqrt.(H1_cauchy_1)./sqrt.(H1_cauchy_2)), linestyle=\"-.\", linewidth=4.5, \n",
    "label=L\"\\log_2{\\left(||\\mathbf{u_1}_{h_1}||_{H1}\\,/\\,||\\mathbf{u_1}_{h_2}||_{H1}\\right)}\")\n",
    "plot(tt_0, log2.(sqrt.(H1_cauchy_2)./sqrt.(H1_cauchy_3)), linestyle=\"--\", linewidth=4.5,\n",
    "label=L\"\\log_2{\\left(||\\mathbf{u_1}_{h_2}||_{H1}\\,/ \\,||\\mathbf{u_1}_{h_3}||_{H1}\\right)}\")\n",
    "plot(tt_0, log2.(sqrt.(H1_cauchy_3)./sqrt.(H1_cauchy_4)), linestyle=\"-\" , linewidth=4.2,\n",
    "label=L\"\\log_2{\\left(||\\mathbf{u_1}_{h_3}||_{H1}\\,/ \\,||\\mathbf{u_1}_{h_4}||_{H1}\\right)}\")\n",
    "# LEGEND\n",
    "legend(fontsize=\"22\", loc=8)\n",
    "###############################\n",
    "\n",
    "fig.canvas.draw() # Update the figure"
   ]
  },
  {
   "cell_type": "code",
   "execution_count": 51,
   "metadata": {},
   "outputs": [],
   "source": [
    "## PLOT ##\n",
    "\n",
    "fig = figure(\"pyplot_subplot_touching\",figsize=(10,9))\n",
    "subplots_adjust(hspace=0.08, wspace=0.04, top = 0.985, bottom = 0.075, right=0.98, left=0.07)# Set the vertical spacing between axes\n",
    "\n",
    "# q norm\n",
    "subplot(211) # Create the 1st fig in 2 rows and 2 columns\n",
    "grid(\"on\")\n",
    "#x-axis\n",
    "xlim(0.0,20.0) # Set the x-limits\n",
    "xticks(0.0:5:20.0,fontsize=\"0\") # Set the x-tick range and step size\n",
    "xlabel(\"time\",fontsize=\"0\")\n",
    "#y-axis\n",
    "ylabel(L\"\\mathcal{C}_{exact}\",fontsize=\"25\")\n",
    "yticks(0.0:1:3.0,fontsize=\"20\")\n",
    "ylim(0.0,3)\n",
    "#plot\n",
    "plot(tt_0, log2.(sqrt.(q_char_0)./sqrt.(q_char_1)), linestyle=\":\" , linewidth=5,  \n",
    "label=L\"\\log_2{\\left(||\\mathbf{u_2}_{h_0}||_q\\,/\\,||\\mathbf{u_2}_{h_1}||_q\\right)}\")\n",
    "plot(tt_0, log2.(sqrt.(q_char_1)./sqrt.(q_char_2)), linestyle=\"-.\", linewidth=4.5, \n",
    "label=L\"\\log_2{\\left(||\\mathbf{u_2}_{h_1}||_q\\,/\\,||\\mathbf{u_2}_{h_2}||_q\\right)}\")\n",
    "plot(tt_0, log2.(sqrt.(q_char_2)./sqrt.(q_char_3)), linestyle=\"--\", linewidth=4.5,\n",
    "label=L\"\\log_2{\\left(||\\mathbf{u_2}_{h_2}||_q\\,/ \\,||\\mathbf{u_2}_{h_3}||_q\\right)}\")\n",
    "plot(tt_0, log2.(sqrt.(q_char_3)./sqrt.(q_char_4)), linestyle=\"-\" , linewidth=4.2,\n",
    "label=L\"\\log_2{\\left(||\\mathbf{u_2}_{h_3}||_q\\,/ \\,||\\mathbf{u_2}_{h_4}||_q\\right)}\")\n",
    "# LEGEND\n",
    "legend(fontsize=\"22\", loc=8)\n",
    "################################\n",
    "\n",
    "# H1 norm\n",
    "subplot(212)\n",
    "grid(\"on\")\n",
    "#x-axis\n",
    "xlim(0.0,20.0) # Set the x-limits\n",
    "xticks(0.0:5:20.0,fontsize=\"20\") # Set the x-tick range and step size\n",
    "xlabel(\"time\",fontsize=\"20\")\n",
    "#y-axis\n",
    "ylabel(L\"\\mathcal{C}_{exact}\",fontsize=\"25\")\n",
    "yticks(0.0:1.0:3.0,fontsize=\"20\")\n",
    "ylim(0.0,3)\n",
    "#plot\n",
    "plot(tt_0, log2.(sqrt.(H1_char_0)./sqrt.(H1_char_1)), linestyle=\":\" , linewidth=5,  \n",
    "label=L\"\\log_2{\\left(||\\mathbf{u_2}_{h_0}||_{H1}\\,/\\,||\\mathbf{u_2}_{h_1}||_{H1}\\right)}\")\n",
    "plot(tt_0, log2.(sqrt.(H1_char_1)./sqrt.(H1_char_2)), linestyle=\"-.\", linewidth=4.5, \n",
    "label=L\"\\log_2{\\left(||\\mathbf{u_2}_{h_1}||_{H1}\\,/\\,||\\mathbf{u_2}_{h_2}||_{H1}\\right)}\")\n",
    "plot(tt_0, log2.(sqrt.(H1_char_2)./sqrt.(H1_char_3)), linestyle=\"--\", linewidth=4.5,\n",
    "label=L\"\\log_2{\\left(||\\mathbf{u_2}_{h_2}||_{H1}\\,/ \\,||\\mathbf{u_2}_{h_3}||_{H1}\\right)}\")\n",
    "plot(tt_0, log2.(sqrt.(H1_char_3)./sqrt.(H1_char_4)), linestyle=\"-\" , linewidth=4.2,\n",
    "label=L\"\\log_2{\\left(||\\mathbf{u_2}_{h_3}||_{H1}\\,/ \\,||\\mathbf{u_2}_{h_4}||_{H1}\\right)}\")\n",
    "# LEGEND\n",
    "legend(fontsize=\"22\", loc=8)\n",
    "###############################\n",
    "\n",
    "fig.canvas.draw() # Update the figure"
   ]
  },
  {
   "cell_type": "code",
   "execution_count": null,
   "metadata": {},
   "outputs": [],
   "source": []
  }
 ],
 "metadata": {
  "kernelspec": {
   "display_name": "Julia 1.8.5",
   "language": "julia",
   "name": "julia-1.8"
  },
  "language_info": {
   "file_extension": ".jl",
   "mimetype": "application/julia",
   "name": "julia",
   "version": "1.8.5"
  }
 },
 "nbformat": 4,
 "nbformat_minor": 2
}
